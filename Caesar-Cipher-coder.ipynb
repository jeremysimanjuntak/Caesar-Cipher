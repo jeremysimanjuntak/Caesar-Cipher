{
 "cells": [
  {
   "cell_type": "markdown",
   "metadata": {},
   "source": [
    "# Caesar Cipher\n",
    "\n",
    "3 separate functions will be created:\n",
    "\n",
    "1. Caeser cipher encryption function.\n",
    "2. Function that decrypts a Caeser cipher message.\n",
    "3. Function that will brute force every possible output for an encrypted Caeser cipher."
   ]
  },
  {
   "cell_type": "markdown",
   "metadata": {},
   "source": [
    "## Encryption Function\n",
    "\n",
    "This function should take in two parameters, the plain text message and the shift number for the Caesar cipher. With these, it should produce an encrypted text message."
   ]
  },
  {
   "cell_type": "code",
   "execution_count": 82,
   "metadata": {},
   "outputs": [],
   "source": [
    "def encrypt(text,shift):\n",
    "    '''\n",
    "    INPUT: text as a string and an integer for the shift value.\n",
    "    OUTPUT: The shifted text after being run through the Caeser cipher.\n",
    "    '''\n",
    "    \n",
    "    # Convert text to list\n",
    "    output = list(text)\n",
    "    \n",
    "    # Create a normal plain alphabet\n",
    "    import string\n",
    "    normalalph = string.ascii_lowercase\n",
    "    basealph = (list(normalalph))\n",
    "    \n",
    "    # Create a shifted version of this alphabet\n",
    "    firstshift = normalalph[:shift]\n",
    "    secondshift = normalalph[shift:]\n",
    "    \n",
    "    shiftalph = secondshift + firstshift\n",
    "    codealph = list(shiftalph)\n",
    "\n",
    "    # Go through each character in the original message, finding index match and replacing letter\n",
    "    for i,letter in enumerate(text):\n",
    "        if letter.lower() in basealph:\n",
    "            ref = basealph.index(letter.lower())\n",
    "            output[i] = codealph[ref]\n",
    "        else:\n",
    "            pass\n",
    "    output = ''.join(output)\n",
    "    print(output)"
   ]
  },
  {
   "cell_type": "markdown",
   "metadata": {},
   "source": [
    "** Example for Encrypt function: **"
   ]
  },
  {
   "cell_type": "code",
   "execution_count": 83,
   "metadata": {},
   "outputs": [
    {
     "name": "stdout",
     "output_type": "stream",
     "text": [
      "trg guvf zrffntr gb gur znva freire\n"
     ]
    }
   ],
   "source": [
    "encrypt('Get this message to the main server',13)"
   ]
  },
  {
   "cell_type": "markdown",
   "metadata": {},
   "source": [
    "## Decryption\n",
    "\n",
    "Function that will \"decrypt\" the shifted message should  do the reverse of the encryption function. The process will be very similar as the previous function, but the alphabets will be switched."
   ]
  },
  {
   "cell_type": "code",
   "execution_count": 84,
   "metadata": {},
   "outputs": [],
   "source": [
    "def decrypt(text,shift):\n",
    "    '''\n",
    "    INPUT: A shifted message and the integer shift value\n",
    "    OUTPUT: The plain text original message.\n",
    "    '''\n",
    "    \n",
    "    # Convert text to list\n",
    "    output = list(text)\n",
    "    \n",
    "    # Create a normal plain alphabet\n",
    "    import string\n",
    "    normalalph = string.ascii_lowercase\n",
    "    basealph = (list(normalalph))\n",
    "    \n",
    "    # Create a shifted version of this alphabet\n",
    "    firstshift = normalalph[:shift]\n",
    "    secondshift = normalalph[shift:]\n",
    "    \n",
    "    shiftalph = secondshift + firstshift\n",
    "    codealph = list(shiftalph)\n",
    "    \n",
    "    # Go through each character in the original message, finding index match and replacing letter\n",
    "    for i,letter in enumerate(text):\n",
    "        if letter.lower() in codealph:\n",
    "            ref = codealph.index(letter.lower())\n",
    "            output[i] = basealph[ref]\n",
    "        else:\n",
    "            pass\n",
    "    output = ''.join(output)\n",
    "    print(output)"
   ]
  },
  {
   "cell_type": "markdown",
   "metadata": {},
   "source": [
    "** Example for Decrypt function: **"
   ]
  },
  {
   "cell_type": "code",
   "execution_count": 85,
   "metadata": {},
   "outputs": [
    {
     "name": "stdout",
     "output_type": "stream",
     "text": [
      "get this message to the main server\n"
     ]
    }
   ],
   "source": [
    "decrypt('trg guvf zrffntr gb gur znva freire',13)"
   ]
  },
  {
   "cell_type": "markdown",
   "metadata": {},
   "source": [
    "## Brute Force Method\n",
    "\n",
    "There may be a case where the incorrect shift value is given. In that case a function where once can brute force through every possible shift value and print out each outcome should be made. This way, a user could quickly read through the printed messages and find the one that is readable."
   ]
  },
  {
   "cell_type": "code",
   "execution_count": 100,
   "metadata": {},
   "outputs": [],
   "source": [
    "def brute_force(message):\n",
    "    \"\"\"\n",
    "    INPUT: A shifted message\n",
    "    OUTPUT: Prints out every possible shifted message. \n",
    "            One of the printed outputs should be readable.\n",
    "    \"\"\"\n",
    "    \n",
    "    # Uses previous decrypt() method and calls for every shift value\n",
    "    for shift in range(0,27):\n",
    "        \n",
    "        # Intro\n",
    "        print('For shift of {}'.format(shift))\n",
    "        \n",
    "        # Convert text to list\n",
    "        output = list(message)\n",
    "\n",
    "        # Create a normal plain alphabet\n",
    "        import string\n",
    "        normalalph = string.ascii_lowercase\n",
    "        basealph = (list(normalalph))\n",
    "\n",
    "        # Create a shifted version of this alphabet\n",
    "        firstshift = normalalph[:shift]\n",
    "        secondshift = normalalph[shift:]\n",
    "\n",
    "        shiftalph = secondshift + firstshift\n",
    "        codealph = list(shiftalph)\n",
    "\n",
    "        # Go through each character in the original message, finding index match and replacing letter\n",
    "        for i,letter in enumerate(message):\n",
    "            if letter.lower() in codealph:\n",
    "                ref = codealph.index(letter.lower())\n",
    "                output[i] = basealph[ref]\n",
    "            else:\n",
    "                pass\n",
    "        output = ''.join(output)\n",
    "        # Print out the result of each shift.\n",
    "        print(output)\n",
    "        print('\\n')"
   ]
  },
  {
   "cell_type": "markdown",
   "metadata": {},
   "source": [
    "** Example Brute Force function: **"
   ]
  },
  {
   "cell_type": "code",
   "execution_count": 101,
   "metadata": {},
   "outputs": [
    {
     "name": "stdout",
     "output_type": "stream",
     "text": [
      "For shift of 0\n",
      "trg guvf zrffntr gb gur znva freire\n",
      "\n",
      "\n",
      "For shift of 1\n",
      "sqf ftue yqeemsq fa ftq ymuz eqdhqd\n",
      "\n",
      "\n",
      "For shift of 2\n",
      "rpe estd xpddlrp ez esp xlty dpcgpc\n",
      "\n",
      "\n",
      "For shift of 3\n",
      "qod drsc wocckqo dy dro wksx cobfob\n",
      "\n",
      "\n",
      "For shift of 4\n",
      "pnc cqrb vnbbjpn cx cqn vjrw bnaena\n",
      "\n",
      "\n",
      "For shift of 5\n",
      "omb bpqa umaaiom bw bpm uiqv amzdmz\n",
      "\n",
      "\n",
      "For shift of 6\n",
      "nla aopz tlzzhnl av aol thpu zlycly\n",
      "\n",
      "\n",
      "For shift of 7\n",
      "mkz znoy skyygmk zu znk sgot ykxbkx\n",
      "\n",
      "\n",
      "For shift of 8\n",
      "ljy ymnx rjxxflj yt ymj rfns xjwajw\n",
      "\n",
      "\n",
      "For shift of 9\n",
      "kix xlmw qiwweki xs xli qemr wivziv\n",
      "\n",
      "\n",
      "For shift of 10\n",
      "jhw wklv phvvdjh wr wkh pdlq vhuyhu\n",
      "\n",
      "\n",
      "For shift of 11\n",
      "igv vjku oguucig vq vjg ockp ugtxgt\n",
      "\n",
      "\n",
      "For shift of 12\n",
      "hfu uijt nfttbhf up uif nbjo tfswfs\n",
      "\n",
      "\n",
      "For shift of 13\n",
      "get this message to the main server\n",
      "\n",
      "\n",
      "For shift of 14\n",
      "fds sghr ldrrzfd sn sgd lzhm rdqudq\n",
      "\n",
      "\n",
      "For shift of 15\n",
      "ecr rfgq kcqqyec rm rfc kygl qcptcp\n",
      "\n",
      "\n",
      "For shift of 16\n",
      "dbq qefp jbppxdb ql qeb jxfk pbosbo\n",
      "\n",
      "\n",
      "For shift of 17\n",
      "cap pdeo iaoowca pk pda iwej oanran\n",
      "\n",
      "\n",
      "For shift of 18\n",
      "bzo ocdn hznnvbz oj ocz hvdi nzmqzm\n",
      "\n",
      "\n",
      "For shift of 19\n",
      "ayn nbcm gymmuay ni nby guch mylpyl\n",
      "\n",
      "\n",
      "For shift of 20\n",
      "zxm mabl fxlltzx mh max ftbg lxkoxk\n",
      "\n",
      "\n",
      "For shift of 21\n",
      "ywl lzak ewkksyw lg lzw esaf kwjnwj\n",
      "\n",
      "\n",
      "For shift of 22\n",
      "xvk kyzj dvjjrxv kf kyv drze jvimvi\n",
      "\n",
      "\n",
      "For shift of 23\n",
      "wuj jxyi cuiiqwu je jxu cqyd iuhluh\n",
      "\n",
      "\n",
      "For shift of 24\n",
      "vti iwxh bthhpvt id iwt bpxc htgktg\n",
      "\n",
      "\n",
      "For shift of 25\n",
      "ush hvwg asggous hc hvs aowb gsfjsf\n",
      "\n",
      "\n",
      "For shift of 26\n",
      "trg guvf zrffntr gb gur znva freire\n",
      "\n",
      "\n"
     ]
    }
   ],
   "source": [
    "brute_force('trg guvf zrffntr gb gur znva freire')"
   ]
  }
 ],
 "metadata": {
  "kernelspec": {
   "display_name": "Python 3 (ipykernel)",
   "language": "python",
   "name": "python3"
  },
  "language_info": {
   "codemirror_mode": {
    "name": "ipython",
    "version": 3
   },
   "file_extension": ".py",
   "mimetype": "text/x-python",
   "name": "python",
   "nbconvert_exporter": "python",
   "pygments_lexer": "ipython3",
   "version": "3.9.12"
  }
 },
 "nbformat": 4,
 "nbformat_minor": 2
}
